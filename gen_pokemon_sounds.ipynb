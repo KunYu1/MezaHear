{
 "cells": [
  {
   "cell_type": "code",
   "execution_count": 93,
   "metadata": {},
   "outputs": [],
   "source": [
    "from pydub import AudioSegment\n",
    "song = AudioSegment.from_mp3(\"./raw_data/Mituo.mp3\")"
   ]
  },
  {
   "cell_type": "code",
   "execution_count": 94,
   "metadata": {},
   "outputs": [
    {
     "name": "stdout",
     "output_type": "stream",
     "text": [
      "Zacian\n"
     ]
    }
   ],
   "source": [
    "song[99900:101900].export('./pokemon_sounds/Zacian/Zacian.mp3')\n",
    "print('Zacian')   "
   ]
  },
  {
   "cell_type": "code",
   "execution_count": 95,
   "metadata": {},
   "outputs": [
    {
     "name": "stdout",
     "output_type": "stream",
     "text": [
      "Zamazenta\n"
     ]
    }
   ],
   "source": [
    "song[110000:112000].export('./pokemon_sounds/Zamazenta/Zamazenta.mp3')\n",
    "print('Zamazenta')  "
   ]
  },
  {
   "cell_type": "code",
   "execution_count": 96,
   "metadata": {},
   "outputs": [
    {
     "name": "stdout",
     "output_type": "stream",
     "text": [
      "Miraidon\n"
     ]
    }
   ],
   "source": [
    "song[122000:124000].export('./pokemon_sounds/Miraidon/Miraidon.mp3')\n",
    "print('Miraidon')  "
   ]
  },
  {
   "cell_type": "code",
   "execution_count": 97,
   "metadata": {},
   "outputs": [
    {
     "name": "stdout",
     "output_type": "stream",
     "text": [
      "Mewtwo\n"
     ]
    }
   ],
   "source": [
    "song[132700:134700].export('./pokemon_sounds/Mewtwo/Mewtwo.mp3')\n",
    "print('Mewtwo')  "
   ]
  },
  {
   "cell_type": "code",
   "execution_count": 98,
   "metadata": {},
   "outputs": [
    {
     "name": "stdout",
     "output_type": "stream",
     "text": [
      "Mew\n"
     ]
    }
   ],
   "source": [
    "song[142500:144500].export('./pokemon_sounds/Mew/Mew.mp3')\n",
    "print('Mew')  "
   ]
  },
  {
   "cell_type": "code",
   "execution_count": 99,
   "metadata": {},
   "outputs": [
    {
     "name": "stdout",
     "output_type": "stream",
     "text": [
      "Metagross\n"
     ]
    }
   ],
   "source": [
    "song[152500:154500].export('./pokemon_sounds/Metagross/Metagross.mp3')\n",
    "print('Metagross')  "
   ]
  },
  {
   "cell_type": "code",
   "execution_count": 100,
   "metadata": {},
   "outputs": [
    {
     "name": "stdout",
     "output_type": "stream",
     "text": [
      "Tyranitar\n"
     ]
    }
   ],
   "source": [
    "song[163500:165500].export('./pokemon_sounds/Tyranitar/Tyranitar.mp3')\n",
    "print('Tyranitar')  "
   ]
  },
  {
   "cell_type": "code",
   "execution_count": 101,
   "metadata": {},
   "outputs": [
    {
     "name": "stdout",
     "output_type": "stream",
     "text": [
      "Charizard\n"
     ]
    }
   ],
   "source": [
    "song[172200:174200].export('./pokemon_sounds/Charizard/Charizard.mp3')\n",
    "print('Charizard')  "
   ]
  },
  {
   "cell_type": "code",
   "execution_count": 102,
   "metadata": {},
   "outputs": [
    {
     "name": "stdout",
     "output_type": "stream",
     "text": [
      "Blastoise\n"
     ]
    }
   ],
   "source": [
    "song[180500:182500].export('./pokemon_sounds/Blastoise/Blastoise.mp3')\n",
    "print('Blastoise') "
   ]
  },
  {
   "cell_type": "code",
   "execution_count": 103,
   "metadata": {},
   "outputs": [
    {
     "name": "stdout",
     "output_type": "stream",
     "text": [
      "Venusaur\n"
     ]
    }
   ],
   "source": [
    "song[188800:190800].export('./pokemon_sounds/Venusaur/Venusaur.mp3')\n",
    "print('Venusaur') "
   ]
  }
 ],
 "metadata": {
  "kernelspec": {
   "display_name": "base",
   "language": "python",
   "name": "python3"
  },
  "language_info": {
   "codemirror_mode": {
    "name": "ipython",
    "version": 3
   },
   "file_extension": ".py",
   "mimetype": "text/x-python",
   "name": "python",
   "nbconvert_exporter": "python",
   "pygments_lexer": "ipython3",
   "version": "3.12.1"
  }
 },
 "nbformat": 4,
 "nbformat_minor": 2
}
